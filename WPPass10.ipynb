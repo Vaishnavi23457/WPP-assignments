{
 "cells": [
  {
   "cell_type": "code",
   "execution_count": 7,
   "metadata": {},
   "outputs": [],
   "source": [
    "import numpy as np\n",
    "import pandas as pd\n",
    "import matplotlib.pyplot as plt"
   ]
  },
  {
   "cell_type": "code",
   "execution_count": 9,
   "metadata": {},
   "outputs": [
    {
     "name": "stdout",
     "output_type": "stream",
     "text": [
      "[1, 0, 0, 0, 0]\n",
      "[0, 0, 0, 1, 0]\n",
      "[0, 1, 0, 0, 0]\n",
      "[0, 0, 0, 0, 1]\n",
      "[0, 0, 1, 0, 0]\n"
     ]
    }
   ],
   "source": [
    "#1)Solve the 8-queens problem using backtracking\n",
    "import numpy as np\n",
    "\n",
    "def is_safe(board, row, col, n):\n",
    "    for i in range(col):\n",
    "        if board[row][i] == 1:\n",
    "            return False\n",
    "    for i, j in zip(range(row, -1, -1), range(col, -1, -1)):\n",
    "        if board[i][j] == 1:\n",
    "            return False\n",
    "    for i, j in zip(range(row, n, 1), range(col, -1, -1)):\n",
    "        if board[i][j] == 1:\n",
    "            return False\n",
    "    return True\n",
    "\n",
    "def solve_n_queens(board, col, n):\n",
    "    if col >= n:\n",
    "        return True\n",
    "    for i in range(n):\n",
    "        if is_safe(board, i, col, n):\n",
    "            board[i][col] = 1\n",
    "            if solve_n_queens(board, col + 1, n):\n",
    "                return True\n",
    "            board[i][col] = 0\n",
    "    return False\n",
    "\n",
    "def N_queens(N):\n",
    "    n = N\n",
    "    # n=print(int(input(\"enter N of n-queens: \")))\n",
    "    board = [[0 for _ in range(n)] for _ in range(n)]\n",
    "    if solve_n_queens(board, 0, n):\n",
    "        for row in board:\n",
    "            print(row)\n",
    "    else:\n",
    "        print(\"No solution exists\")\n",
    "\n",
    "N_queens(5)"
   ]
  },
  {
   "cell_type": "code",
   "execution_count": 15,
   "metadata": {},
   "outputs": [
    {
     "ename": "KeyboardInterrupt",
     "evalue": "",
     "output_type": "error",
     "traceback": [
      "\u001b[1;31m---------------------------------------------------------------------------\u001b[0m",
      "\u001b[1;31mKeyboardInterrupt\u001b[0m                         Traceback (most recent call last)",
      "Cell \u001b[1;32mIn[15], line 23\u001b[0m\n\u001b[0;32m     21\u001b[0m                     \u001b[38;5;28;01mreturn\u001b[39;00m \u001b[38;5;28;01mFalse\u001b[39;00m\n\u001b[0;32m     22\u001b[0m     \u001b[38;5;28;01mreturn\u001b[39;00m \u001b[38;5;28;01mTrue\u001b[39;00m\n\u001b[1;32m---> 23\u001b[0m \u001b[43mrandom_eight_queens\u001b[49m\u001b[43m(\u001b[49m\u001b[43m)\u001b[49m\n",
      "Cell \u001b[1;32mIn[15], line 6\u001b[0m, in \u001b[0;36mrandom_eight_queens\u001b[1;34m()\u001b[0m\n\u001b[0;32m      4\u001b[0m \u001b[38;5;28;01mdef\u001b[39;00m \u001b[38;5;21mrandom_eight_queens\u001b[39m():\n\u001b[0;32m      5\u001b[0m     \u001b[38;5;28;01mwhile\u001b[39;00m \u001b[38;5;28;01mTrue\u001b[39;00m:\n\u001b[1;32m----> 6\u001b[0m         board \u001b[38;5;241m=\u001b[39m np\u001b[38;5;241m.\u001b[39mzeros((\u001b[38;5;241m8\u001b[39m, \u001b[38;5;241m8\u001b[39m), dtype\u001b[38;5;241m=\u001b[39m\u001b[38;5;28mint\u001b[39m)\n\u001b[0;32m      7\u001b[0m         cols \u001b[38;5;241m=\u001b[39m \u001b[38;5;28mlist\u001b[39m(\u001b[38;5;28mrange\u001b[39m(\u001b[38;5;241m8\u001b[39m))\n\u001b[0;32m      8\u001b[0m         random\u001b[38;5;241m.\u001b[39mshuffle(cols)\n",
      "\u001b[1;31mKeyboardInterrupt\u001b[0m: "
     ]
    }
   ],
   "source": [
    "# 2. Place 8 queens randomly while satisfying conditions\n",
    "import random\n",
    "import numpy as np\n",
    "\n",
    "def random_eight_queens():\n",
    "    while True:\n",
    "        board = np.zeros((8, 8), dtype=int)\n",
    "        cols = list(range(8))\n",
    "        random.shuffle(cols)\n",
    "        for row in range(8):\n",
    "            board[row, cols[row]] = 1\n",
    "        if is_safe_board(board):\n",
    "            print(board)\n",
    "            return\n",
    "\n",
    "def is_safe_board(board):\n",
    "    n = len(board)\n",
    "    for row in range(n):\n",
    "        for col in range(n):\n",
    "            if board[row][col] == 1:\n",
    "                if not is_safe(board, row, col, n):\n",
    "                    return False\n",
    "    return True\n",
    "random_eight_queens()\n"
   ]
  },
  {
   "cell_type": "code",
   "execution_count": 11,
   "metadata": {},
   "outputs": [
    {
     "name": "stdout",
     "output_type": "stream",
     "text": [
      "[[17 24  1  8 15]\n",
      " [23  5  7 14 16]\n",
      " [ 4  6 13 20 22]\n",
      " [10 12 19 21  3]\n",
      " [11 18 25  2  9]]\n"
     ]
    }
   ],
   "source": [
    "# 3. Generate an N x N magic square\n",
    "def generate_magic_square(n):\n",
    "    if n % 2 == 0:\n",
    "        print(\"Only odd numbers supported in this simple method\")\n",
    "        return\n",
    "    magic_square = np.zeros((n, n), dtype=int)\n",
    "    i, j = 0, n // 2\n",
    "    for num in range(1, n * n + 1):\n",
    "        magic_square[i, j] = num\n",
    "        ni, nj = (i - 1) % n, (j + 1) % n\n",
    "        if magic_square[ni, nj]:\n",
    "            i += 1\n",
    "        else:\n",
    "            i, j = ni, nj\n",
    "    print(magic_square)\n",
    "\n",
    "generate_magic_square(5)"
   ]
  },
  {
   "cell_type": "code",
   "execution_count": 12,
   "metadata": {},
   "outputs": [
    {
     "name": "stdout",
     "output_type": "stream",
     "text": [
      "Cartesian_to_Polar converter: \n",
      "\n",
      "Cartesian Coordinates: [[7.43280173 7.51861686]\n",
      " [5.40098165 7.54618306]\n",
      " [9.94243781 8.72986723]\n",
      " [2.23756685 9.59700792]\n",
      " [6.50853196 9.27589825]\n",
      " [0.04380139 3.12173479]\n",
      " [3.7201034  0.89610336]\n",
      " [6.46114753 3.29445136]\n",
      " [7.56152747 0.9020068 ]\n",
      " [6.80966108 5.53470941]]\n",
      "Polar Coordinates: [[10.57242361  0.7911377 ]\n",
      " [ 9.27984275  0.94959534]\n",
      " [13.23112435  0.7205497 ]\n",
      " [ 9.85440341  1.34173585]\n",
      " [11.33151696  0.95895676]\n",
      " [ 3.12204207  1.55676614]\n",
      " [ 3.82650892  0.23637812]\n",
      " [ 7.25257452  0.47152542]\n",
      " [ 7.61513716  0.11872793]\n",
      " [ 8.77522035  0.68248104]]\n"
     ]
    },
    {
     "name": "stderr",
     "output_type": "stream",
     "text": [
      "C:\\Users\\Pooji\\AppData\\Local\\Temp\\ipykernel_25820\\2605817915.py:6: DeprecationWarning: `row_stack` alias is deprecated. Use `np.vstack` directly.\n",
      "  print(\"Cartesian Coordinates:\",np.row_stack(points))\n"
     ]
    }
   ],
   "source": [
    "#4)Cartesian_to_Polar converter\n",
    "import numpy as np\n",
    "def cartesian_to_polar(n=10):\n",
    "    points = np.random.rand(n, 2) * 10\n",
    "    print(\"Cartesian_to_Polar converter: \\n\")\n",
    "    print(\"Cartesian Coordinates:\",np.row_stack(points))\n",
    "    r = np.sqrt(points[:, 0]**2 + points[:, 1]**2)\n",
    "    theta = np.arctan2(points[:, 1], points[:, 0])\n",
    "    print(\"Polar Coordinates:\", np.column_stack((r, theta)))\n",
    "\n",
    "cartesian_to_polar(n=10)"
   ]
  },
  {
   "cell_type": "code",
   "execution_count": 13,
   "metadata": {},
   "outputs": [
    {
     "name": "stdout",
     "output_type": "stream",
     "text": [
      "Centered: ['_______59______', '_______77______', '_______49______', '_______88______', '_______72______', '_______54______', '_______67______', '_______20______', '_______33______', '_______64______']\n",
      "Left-Justified: ['59_____________', '77_____________', '49_____________', '88_____________', '72_____________', '54_____________', '67_____________', '20_____________', '33_____________', '64_____________']\n",
      "Right-Justified: ['_____________59', '_____________77', '_____________49', '_____________88', '_____________72', '_____________54', '_____________67', '_____________20', '_____________33', '_____________64']\n"
     ]
    }
   ],
   "source": [
    "# 5. Format array elements with padding\n",
    "def format_numpy_array():\n",
    "    arr = np.random.randint(1, 100, 10)\n",
    "    formatted = [f\"{str(x).center(15, '_')}\" for x in arr]\n",
    "    print(\"Centered:\", formatted)\n",
    "    formatted = [f\"{str(x).ljust(15, '_')}\" for x in arr]\n",
    "    print(\"Left-Justified:\", formatted)\n",
    "    formatted = [f\"{str(x).rjust(15, '_')}\" for x in arr]\n",
    "    print(\"Right-Justified:\", formatted)\n",
    "\n",
    "format_numpy_array()"
   ]
  },
  {
   "cell_type": "code",
   "execution_count": 14,
   "metadata": {},
   "outputs": [
    {
     "data": {
      "image/png": "[encoded data removed]",
      "text/plain": [
       "<Figure size 640x480 with 1 Axes>"
      ]
     },
     "metadata": {},
     "output_type": "display_data"
    },
    {
     "name": "stdout",
     "output_type": "stream",
     "text": [
      "Approximate Root: 1.5213794708251953\n"
     ]
    }
   ],
   "source": [
    "# 6. Bisection method root finding\n",
    "def f(x):\n",
    "    return x**3 - x - 2\n",
    "\n",
    "def bisection(a, b, tol=1e-6):\n",
    "    updates = []\n",
    "    if f(a) * f(b) >= 0:\n",
    "        print(\"Invalid interval\")\n",
    "        return\n",
    "    while (b - a) / 2 > tol:\n",
    "        mid = (a + b) / 2\n",
    "        updates.append(mid)\n",
    "        if f(mid) == 0:\n",
    "            break\n",
    "        elif f(a) * f(mid) < 0:\n",
    "            b = mid\n",
    "        else:\n",
    "            a = mid\n",
    "    plt.plot(updates, 'bo-')\n",
    "    plt.title(\"Bisection Method Root Finding\")\n",
    "    plt.xlabel(\"Iteration\")\n",
    "    plt.ylabel(\"Root Estimate\")\n",
    "    plt.show()\n",
    "    print(\"Approximate Root:\", mid)\n",
    "\n",
    "bisection(1,2)"
   ]
  }
 ],
 "metadata": {
  "kernelspec": {
   "display_name": "spyder-runtime",
   "language": "python",
   "name": "python3"
  },
  "language_info": {
   "codemirror_mode": {
    "name": "ipython",
    "version": 3
   },
   "file_extension": ".py",
   "mimetype": "text/x-python",
   "name": "python",
   "nbconvert_exporter": "python",
   "pygments_lexer": "ipython3",
   "version": "3.11.10"
  }
 },
 "nbformat": 4,
 "nbformat_minor": 2
}
