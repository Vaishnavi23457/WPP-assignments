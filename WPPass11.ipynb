{
 "cells": [
  {
   "cell_type": "code",
   "execution_count": 1,
   "id": "1ea1d0b2",
   "metadata": {},
   "outputs": [],
   "source": [
    "import pandas as pd\n"
   ]
  },
  {
   "cell_type": "code",
   "execution_count": 2,
   "id": "235623f3",
   "metadata": {},
   "outputs": [
    {
     "name": "stdout",
     "output_type": "stream",
     "text": [
      "a) 2012-01-15 00:00:00\n",
      "b) 2012-01-15 21:20:00\n",
      "c) 2025-04-08 19:37:58.648167\n",
      "d) 2025-04-08\n",
      "e) 2025-04-08\n",
      "f) 19:37:58.652168\n",
      "g) 19:37:58.652168\n"
     ]
    }
   ],
   "source": [
    "import pandas as pd\n",
    "from datetime import datetime\n",
    "\n",
    "# a) Date time object for Jan 15 2012\n",
    "date_obj = datetime(2012, 1, 15)\n",
    "print(\"a)\", date_obj)\n",
    "\n",
    "# b) Specific date and time of 9:20 PM\n",
    "date_time = datetime(2012, 1, 15, 21, 20)\n",
    "print(\"b)\", date_time)\n",
    "\n",
    "# c) Local date and time\n",
    "print(\"c)\", datetime.now())\n",
    "\n",
    "# d) A date without time\n",
    "print(\"d)\", datetime.now().date())\n",
    "\n",
    "# e) Current date\n",
    "print(\"e)\", pd.Timestamp.now().date())\n",
    "\n",
    "# f) Time from a date time\n",
    "print(\"f)\", datetime.now().time())\n",
    "\n",
    "# g) Current local time\n",
    "print(\"g)\", pd.Timestamp.now().time())\n"
   ]
  },
  {
   "cell_type": "code",
   "execution_count": 3,
   "id": "f475ee4e",
   "metadata": {},
   "outputs": [
    {
     "name": "stdout",
     "output_type": "stream",
     "text": [
      "Upper case:\n",
      " 0        X\n",
      "1        Y\n",
      "2        T\n",
      "3     AABA\n",
      "4     BACA\n",
      "5     CABA\n",
      "6     None\n",
      "7     BIRD\n",
      "8    HORSE\n",
      "9      DOG\n",
      "dtype: object\n",
      "\n",
      "Lower case:\n",
      " 0        x\n",
      "1        y\n",
      "2        t\n",
      "3     aaba\n",
      "4     baca\n",
      "5     caba\n",
      "6     None\n",
      "7     bird\n",
      "8    horse\n",
      "9      dog\n",
      "dtype: object\n",
      "\n",
      "Length of strings:\n",
      " 0    1.0\n",
      "1    1.0\n",
      "2    1.0\n",
      "3    4.0\n",
      "4    4.0\n",
      "5    4.0\n",
      "6    NaN\n",
      "7    4.0\n",
      "8    5.0\n",
      "9    3.0\n",
      "dtype: float64\n"
     ]
    }
   ],
   "source": [
    "import pandas as pd\n",
    "\n",
    "s = pd.Series(['X', 'Y', 'T', 'Aaba', 'Baca', 'CABA', None, 'bird', 'horse', 'dog'])\n",
    "\n",
    "print(\"Upper case:\\n\", s.str.upper())\n",
    "print(\"\\nLower case:\\n\", s.str.lower())\n",
    "print(\"\\nLength of strings:\\n\", s.str.len())\n"
   ]
  },
  {
   "cell_type": "code",
   "execution_count": 4,
   "id": "e2d3a0d5",
   "metadata": {},
   "outputs": [
    {
     "name": "stdout",
     "output_type": "stream",
     "text": [
      "Good deal indices: [0, 1, 2, 4]\n"
     ]
    }
   ],
   "source": [
    "import pandas as pd\n",
    "\n",
    "# Example data\n",
    "asking_prices = pd.Series([1000, 2500, 3000, 4000, 5000])\n",
    "fair_prices = pd.Series([1500, 2700, 3200, 3500, 6000])\n",
    "\n",
    "good_deals = asking_prices[asking_prices < fair_prices].index.tolist()\n",
    "print(\"Good deal indices:\", good_deals)\n"
   ]
  },
  {
   "cell_type": "code",
   "execution_count": 5,
   "id": "03091f4b",
   "metadata": {},
   "outputs": [
    {
     "name": "stdout",
     "output_type": "stream",
     "text": [
      "         day  John  Judy  days_til_party\n",
      "0 2024-04-01     0     0               1\n",
      "1 2024-04-02     0     1               0\n",
      "2 2024-04-03     1     0               0\n",
      "3 2024-04-04     0     0               2\n",
      "4 2024-04-05     0     0               1\n",
      "5 2024-04-06     1     0               0\n",
      "6 2024-04-07     0     0               1\n",
      "7 2024-04-08     0     1               0\n",
      "8 2024-04-09     0     0               1\n",
      "9 2024-04-10     1     0               0\n"
     ]
    }
   ],
   "source": [
    "import pandas as pd\n",
    "\n",
    "# Example input DataFrame\n",
    "df = pd.DataFrame({\n",
    "    'day': pd.date_range(start='2024-04-01', periods=10, freq='D'),\n",
    "    'John': [0, 0, 1, 0, 0, 1, 0, 0, 0, 1],\n",
    "    'Judy': [0, 1, 0, 0, 0, 0, 0, 1, 0, 0]\n",
    "})\n",
    "\n",
    "# Calculate party (John or Judy)\n",
    "party = (df['John'] + df['Judy']) > 0\n",
    "\n",
    "# Compute days until next party\n",
    "days_til_party = []\n",
    "for i in range(len(party)):\n",
    "    future = party[i:]\n",
    "    try:\n",
    "        next_party = future[future].index[0] - i\n",
    "        days_til_party.append(next_party)\n",
    "    except IndexError:\n",
    "        days_til_party.append(None)\n",
    "\n",
    "df['days_til_party'] = days_til_party\n",
    "print(df)\n"
   ]
  },
  {
   "cell_type": "code",
   "execution_count": 6,
   "id": "fc20f88c",
   "metadata": {},
   "outputs": [
    {
     "name": "stdout",
     "output_type": "stream",
     "text": [
      "year_month artist venue  2022-01  2022-02  2023-01\n",
      "0               A     X        1        0        0\n",
      "1               A     Y        1        0        0\n",
      "2               B     X        0        1        0\n",
      "3               B     Y        0        0        1\n",
      "4               C     X        1        0        0\n"
     ]
    }
   ],
   "source": [
    "import pandas as pd\n",
    "\n",
    "# Sample data\n",
    "data = pd.DataFrame({\n",
    "    'artist': ['A', 'A', 'B', 'B', 'C'],\n",
    "    'venue': ['X', 'Y', 'X', 'Y', 'X'],\n",
    "    'date': pd.to_datetime(['2022-01-15', '2022-01-20', '2022-02-10', '2023-01-10', '2022-01-05'])\n",
    "})\n",
    "\n",
    "data['year_month'] = data['date'].dt.to_period('M')\n",
    "\n",
    "# Count concerts\n",
    "concert_counts = data.groupby(['artist', 'venue', 'year_month']).size().unstack(fill_value=0)\n",
    "\n",
    "# Optional: Flatten index if needed\n",
    "concert_counts = concert_counts.reset_index()\n",
    "print(concert_counts)\n"
   ]
  }
 ],
 "metadata": {
  "kernelspec": {
   "display_name": "spyder-runtime",
   "language": "python",
   "name": "python3"
  },
  "language_info": {
   "codemirror_mode": {
    "name": "ipython",
    "version": 3
   },
   "file_extension": ".py",
   "mimetype": "text/x-python",
   "name": "python",
   "nbconvert_exporter": "python",
   "pygments_lexer": "ipython3",
   "version": "3.11.10"
  }
 },
 "nbformat": 4,
 "nbformat_minor": 5
}
